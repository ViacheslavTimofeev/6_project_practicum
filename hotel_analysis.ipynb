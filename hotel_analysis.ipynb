{
  "cells": [
    {
      "cell_type": "markdown",
      "metadata": {
        "id": "view-in-github",
        "colab_type": "text"
      },
      "source": [
        "<a href=\"https://colab.research.google.com/github/ViacheslavTimofeev/6_project_practicum/blob/main/hotel_analysis.ipynb\" target=\"_parent\"><img src=\"https://colab.research.google.com/assets/colab-badge.svg\" alt=\"Open In Colab\"/></a>"
      ]
    },
    {
      "cell_type": "markdown",
      "metadata": {
        "id": "lLIB_wFiP3eM"
      },
      "source": [
        "# Прогнозирование оттока клиентов в сети отелей «Как в гостях»"
      ]
    },
    {
      "cell_type": "markdown",
      "metadata": {
        "id": "F_TWBf9PP3eO"
      },
      "source": [
        "### Шаг 1. Откройте файлы с данными"
      ]
    },
    {
      "cell_type": "code",
      "execution_count": null,
      "metadata": {
        "colab": {
          "base_uri": "https://localhost:8080/"
        },
        "id": "C3xRqfXLP3eO",
        "outputId": "52280a3e-7c8f-4af2-a1bd-2c5c463f6983"
      },
      "outputs": [
        {
          "output_type": "stream",
          "name": "stdout",
          "text": [
            "Drive already mounted at /content/drive; to attempt to forcibly remount, call drive.mount(\"/content/drive\", force_remount=True).\n",
            "(32412, 25)\n",
            "(32412, 25)\n",
            "0        False\n",
            "1        False\n",
            "2        False\n",
            "3        False\n",
            "4        False\n",
            "         ...  \n",
            "32407    False\n",
            "32408    False\n",
            "32409    False\n",
            "32410    False\n",
            "32411    False\n",
            "Length: 32412, dtype: bool\n"
          ]
        }
      ],
      "source": [
        "import pandas as pd\n",
        "from sklearn.preprocessing import OneHotEncoder\n",
        "from sklearn.feature_selection import SelectKBest, SelectPercentile, mutual_info_classif\n",
        "import numpy as np\n",
        "from sklearn.preprocessing import StandardScaler\n",
        "from sklearn.model_selection import train_test_split\n",
        "import sys\n",
        "from google.colab import drive\n",
        "import math\n",
        "from sklearn.linear_model import LogisticRegression\n",
        "from sklearn.model_selection import cross_val_score\n",
        "from sklearn.model_selection import GridSearchCV\n",
        "from sklearn.ensemble import RandomForestClassifier\n",
        "from sklearn.metrics import f1_score\n",
        "from sklearn.metrics import accuracy_score\n",
        "from catboost import CatBoostClassifier\n",
        "\n",
        "\n",
        "drive.mount('/content/drive')\n",
        "\n",
        "np.random.seed(12345)\n",
        "\n",
        "train_df = pd.read_csv('/content/drive/My Drive/Datasets/hotel_train.csv')\n",
        "test_df = pd.read_csv('/content/drive/My Drive/Datasets/hotel_test.csv')\n",
        "\n",
        "#print(train_df.info())\n",
        "#print(test_df.info())\n",
        "\n",
        "train_df['arrival_date_year'] = train_df['arrival_date_year'].astype('object')\n",
        "test_df['arrival_date_year'] = test_df['arrival_date_year'].astype('object')\n",
        "\n",
        "train_df = train_df.drop(['country', 'arrival_date_week_number', 'arrival_date_day_of_month', 'arrival_date_year'], axis=1)\n",
        "test_df = test_df.drop(['country', 'arrival_date_week_number', 'arrival_date_day_of_month', 'arrival_date_year'], axis=1)\n",
        "train_df['reserved_room_type'] = train_df['reserved_room_type'].replace(['A               ', 'B               ', 'C               ', 'D               ', 'E               ', 'F               ', 'G               '], ['A', 'B', 'C', 'D', 'E', 'F', 'G'])\n",
        "test_df['reserved_room_type'] = test_df['reserved_room_type'].replace(['A               ', 'B               ', 'C               ', 'D               ', 'E               ', 'F               ', 'G               '], ['A', 'B', 'C', 'D', 'E', 'F', 'G'])\n",
        "train_df['meal'] = train_df['meal'].replace(['BB       ', 'FB       ', 'HB       ', 'SC       '], ['BB', 'FB', 'HB', 'SC'])\n",
        "test_df['meal'] = test_df['meal'].replace(['BB       ', 'FB       ', 'HB       ', 'SC       '], ['BB', 'FB', 'HB', 'SC'])\n",
        "\n",
        "\n",
        "# добавление фич в тестовый датасет, присутствующих в train_df, но отсутствующих в test_df\n",
        "len_test = len(test_df)\n",
        "\n",
        "d = {'arrival_date_month_September': np.zeros(len_test),\n",
        "     'arrival_date_month_October': np.zeros(len_test),\n",
        "     'arrival_date_month_November': np.zeros(len_test),\n",
        "     'arrival_date_month_December': np.zeros(len_test)}\n",
        "add_months = pd.DataFrame(data=d)\n",
        "test_df = test_df.join(add_months)\n",
        "\n",
        "# one-hot encoding\n",
        "df_dummies = pd.get_dummies(train_df)\n",
        "df_dummies = df_dummies.drop('id', axis=1)\n",
        "#print(len(df_dummies.columns))\n",
        "\n",
        "df_dummies_test = pd.get_dummies(test_df)\n",
        "df_dummies_test = df_dummies_test.drop('id', axis=1)\n",
        "#print(len(df_dummies_test.columns))\n",
        "\n",
        "# целевые признаки и фичи\n",
        "target_train = df_dummies['is_canceled']\n",
        "features_train = df_dummies.drop('is_canceled', axis=1)\n",
        "\n",
        "target_test = df_dummies_test['is_canceled']\n",
        "features_test = df_dummies_test.drop('is_canceled', axis=1)\n"
      ]
    },
    {
      "cell_type": "markdown",
      "metadata": {
        "id": "WLzWt89uP3eQ"
      },
      "source": [
        "### Шаг 2. Предобработка и исследовательский анализ данных"
      ]
    },
    {
      "cell_type": "code",
      "execution_count": null,
      "metadata": {
        "id": "SCM2YQ5cP3eQ",
        "colab": {
          "base_uri": "https://localhost:8080/"
        },
        "outputId": "0c46c0ca-1eca-457b-eab3-106749ae28dc"
      },
      "outputs": [
        {
          "output_type": "stream",
          "name": "stdout",
          "text": [
            "['lead_time', 'stays_in_week_nights', 'adults', 'previous_cancellations', 'previous_bookings_not_canceled', 'booking_changes', 'days_in_waiting_list', 'required_car_parking_spaces', 'total_of_special_requests', 'total_nights', 'meal_BB', 'distribution_channel_Direct', 'distribution_channel_TA/TO', 'reserved_room_type_A', 'reserved_room_type_D', 'customer_type_Group', 'customer_type_Transient', 'customer_type_Transient-Party']\n"
          ]
        }
      ],
      "source": [
        "# выбираем самые влиятельные столбцы для обучения модели\n",
        "selector = SelectKBest(mutual_info_classif, k=18) # путем изменения k выснилось, что оптимальное значение - 18\n",
        "features_reduced = selector.fit_transform(features_train, target_train)\n",
        "cols = selector.get_support(indices=True)\n",
        "\n",
        "selected_columns = features_train.iloc[:,cols].columns.tolist()\n",
        "print(selected_columns)\n",
        "\n",
        "target_train_K_best = df_dummies['is_canceled']\n",
        "target_test_K_best = df_dummies_test['is_canceled']\n",
        "\n",
        "#corr_most_col = ['lead_time', 'previous_cancellations', 'booking_changes', 'required_car_parking_spaces', 'total_of_special_requests', 'distribution_channel_Direct', 'distribution_channel_TA/TO']\n",
        "\n",
        "features_train_K_best = df_dummies[selected_columns]\n",
        "features_test_K_best = df_dummies_test[selected_columns]\n",
        "\n",
        "cols_tr_K = features_train_K_best.columns.tolist()\n",
        "features_test_K_best = features_test_K_best[cols_tr_K]\n",
        "\n",
        "cols_tr = features_train.columns.tolist()\n",
        "features_test = features_test[cols_tr]\n",
        "\n",
        "corr_most_col = ['lead_time',\n",
        "                 'previous_cancellations',\n",
        "                 'booking_changes',\n",
        "                 'required_car_parking_spaces',\n",
        "                 'total_of_special_requests',\n",
        "                 'distribution_channel_Direct',\n",
        "                 'distribution_channel_TA/TO',\n",
        "                 'days_in_waiting_list',\n",
        "                 'customer_type_Transient-Party'] # столбцы с cf-коэффициентом корреляции по отношению к целевому признаку. -0.09 >= cf >= 0.09"
      ]
    },
    {
      "cell_type": "code",
      "source": [],
      "metadata": {
        "id": "StULhvnITeDU"
      },
      "execution_count": null,
      "outputs": []
    },
    {
      "cell_type": "markdown",
      "metadata": {
        "id": "tt-_nuDNP3eR"
      },
      "source": [
        "### Шаг 3. Формулировка ML-задачи на основе бизнес-задачи"
      ]
    },
    {
      "cell_type": "code",
      "execution_count": null,
      "metadata": {
        "colab": {
          "base_uri": "https://localhost:8080/"
        },
        "id": "VPUXnfOqP3eR",
        "outputId": "2cc41e91-3b49-424c-8375-7b12a09a96b3"
      },
      "outputs": [
        {
          "output_type": "stream",
          "name": "stdout",
          "text": [
            "Прибыль за 2015-2016: 115293730.0\n",
            "Прибыль за 2017: 171559330.0\n"
          ]
        }
      ],
      "source": [
        "\n"
      ]
    },
    {
      "cell_type": "markdown",
      "metadata": {
        "id": "_W5PdzZnP3eR"
      },
      "source": [
        "### Шаг 4. Разработка модели ML"
      ]
    },
    {
      "cell_type": "code",
      "execution_count": null,
      "metadata": {
        "id": "9A3o_9VVP3eS",
        "colab": {
          "base_uri": "https://localhost:8080/"
        },
        "outputId": "06633ca5-0f89-4a46-8a5b-286ab2c80bc7"
      },
      "outputs": [
        {
          "output_type": "stream",
          "name": "stdout",
          "text": [
            "Learning rate set to 0.061334\n",
            "0:\tlearn: 0.6499889\ttotal: 59.1ms\tremaining: 59s\n",
            "1:\tlearn: 0.6152685\ttotal: 108ms\tremaining: 53.9s\n",
            "2:\tlearn: 0.5896003\ttotal: 154ms\tremaining: 51.2s\n",
            "3:\tlearn: 0.5680345\ttotal: 201ms\tremaining: 50.1s\n",
            "4:\tlearn: 0.5514768\ttotal: 245ms\tremaining: 48.7s\n",
            "5:\tlearn: 0.5366941\ttotal: 288ms\tremaining: 47.8s\n",
            "6:\tlearn: 0.5235762\ttotal: 331ms\tremaining: 46.9s\n",
            "7:\tlearn: 0.5118594\ttotal: 373ms\tremaining: 46.2s\n",
            "8:\tlearn: 0.5029755\ttotal: 410ms\tremaining: 45.2s\n",
            "9:\tlearn: 0.4929165\ttotal: 455ms\tremaining: 45s\n",
            "10:\tlearn: 0.4857386\ttotal: 477ms\tremaining: 42.9s\n",
            "...",
            "999:\tlearn: 0.3528557\ttotal: 20.5s\tremaining: 0us\n",
            "0.7272306553128471\n"
          ]
        }
      ],
      "source": [
        "'''\n",
        "1 ТЕСТ: разработка моделей с датафреймом df_dummies (278 столбцов)\n",
        "  1: логистическая регрессия\n",
        "model_regression_278 = LogisticRegression(solver='liblinear', class_weight='balanced')\n",
        "cross_val_score(model_regression_278, features_train_scaled, target_train, cv=3)\n",
        "средний score с балансом классов: 0.59846081\n",
        "средний score без баланса классов: 0.6434867933333334\n",
        "\n",
        "  2: random forest\n",
        "model_forest_278 = RandomForestClassifier(class_weight='balanced', n_estimators=22, max_depth=10)\n",
        "cross_val_score(model_forest_278, features_train_scaled, target_train, cv=3)\n",
        "средний score с балансом классов: 0.658\n",
        "средний score без баланса классов: 0.7091937633333334\n",
        "'''\n",
        "\n",
        "'''\n",
        " 2 ТЕСТ: разработка моделей только с самыми показательными столбцами (30 столбцов, выбрано с помощью SelectKBest)\n",
        "  1: логистическая регрессия\n",
        "model_regression_30 = LogisticRegression(solver='liblinear')\n",
        "cross_val_score(model_regression_30, features_train_scaled, target_train, cv=3)\n",
        "средний score с балансом классов: 0.59162\n",
        "средний score без баланса классов: 0.64432\n",
        "  2: random forest\n",
        "model_forest_30 = RandomForestClassifier(n_estimators=100, max_depth=10)\n",
        "model_forest_30.fit(features_train_K_best, target_train_K_best)\n",
        "cross_val_score(cat, features_train, target_train, cv=3)\n",
        " средний score с балансом классов: 0.65973\n",
        " средний score без баланса классов: 0.71463\n",
        "print(sum([0.6960861 , 0.54633675, 0.67557375])/ 3)\n",
        "forest_predict = model_forest_30.predict(features_test_K_best)\n",
        "print(accuracy_score(target_test, cat_predict))\n",
        "K=20: 0.73, K=18: 0.736, K=25: 0.736\n",
        "'''\n"
      ]
    },
    {
      "cell_type": "markdown",
      "metadata": {
        "id": "Jw4zGJqmP3eS"
      },
      "source": [
        "### Шаг 5. Опишите портрет «ненадёжного» клиента"
      ]
    },
    {
      "cell_type": "code",
      "execution_count": null,
      "metadata": {
        "id": "sCgRr4szP3eS",
        "colab": {
          "base_uri": "https://localhost:8080/"
        },
        "outputId": "d729ba3d-a20f-4153-b064-e10dc534c620"
      },
      "outputs": [
        {
          "output_type": "stream",
          "name": "stdout",
          "text": [
            "0        1\n",
            "1        0\n",
            "2        0\n",
            "3        0\n",
            "4        1\n",
            "        ..\n",
            "32407    1\n",
            "32408    0\n",
            "32409    0\n",
            "32410    0\n",
            "32411    1\n",
            "Name: is_predicted, Length: 32412, dtype: int64\n",
            "       is_predicted  is_canceled\n",
            "0                 1            1\n",
            "1                 0            1\n",
            "2                 0            1\n",
            "3                 0            1\n",
            "4                 1            1\n",
            "...             ...          ...\n",
            "32407             1            0\n",
            "32408             0            0\n",
            "32409             0            0\n",
            "32410             0            0\n",
            "32411             1            0\n",
            "\n",
            "[32412 rows x 2 columns]\n",
            "Index(['id', 'is_canceled', 'lead_time', 'arrival_date_month',\n",
            "       'stays_in_weekend_nights', 'stays_in_week_nights', 'adults', 'children',\n",
            "       'babies', 'meal', 'distribution_channel', 'is_repeated_guest',\n",
            "       'previous_cancellations', 'previous_bookings_not_canceled',\n",
            "       'reserved_room_type', 'booking_changes', 'days_in_waiting_list',\n",
            "       'customer_type', 'required_car_parking_spaces',\n",
            "       'total_of_special_requests', 'total_nights',\n",
            "       'arrival_date_month_September', 'arrival_date_month_October',\n",
            "       'arrival_date_month_November', 'arrival_date_month_December',\n",
            "       'is_predicted'],\n",
            "      dtype='object')\n",
            "Прибыль после внедрения модели: 72826986.0\n",
            "16161386.0\n"
          ]
        }
      ],
      "source": [
        "forest_predict_series = pd.Series(data=forest_predict)\n",
        "forest_predict_series = forest_predict_series.rename('is_predicted')\n",
        "\n",
        "profit = []\n",
        "loss = []\n",
        "summer = ['June', 'July', 'August']\n",
        "autumn = ['September', 'October', 'November']\n",
        "spring = ['March', 'April', 'May']\n",
        "\n",
        "def profit_calc(df):  # функция расчета прибыли\n",
        "    room_prices = {\n",
        "        'A': {'room': 1000, 'clean': 400},\n",
        "        'B': {'room': 800, 'clean': 350},\n",
        "        'C': {'room': 600, 'clean': 350},\n",
        "        'D': {'room': 550, 'clean': 150},\n",
        "        'E': {'room': 500, 'clean': 150},\n",
        "        'F': {'room': 450, 'clean': 150},\n",
        "        'G': {'room': 350, 'clean': 150}  # словарь категорий комнат\n",
        "    }\n",
        "\n",
        "    for _, row in df.iterrows():\n",
        "        category = row['reserved_room_type']  # присвоение категории каждому элементу датафрейма\n",
        "        month = row['arrival_date_month']  # проверка на время года\n",
        "        cf = 1.4 if month in summer else 1.2 if month in spring else 1.2 if month in autumn else 1  # расчет сезонных коэффициентов\n",
        "\n",
        "        room_price = room_prices[category]['room']\n",
        "        clean_price = room_prices[category]['clean']\n",
        "        total_nights = row['total_nights']\n",
        "        is_canceled = row['is_canceled']\n",
        "        is_predicted = row['is_predicted']\n",
        "\n",
        "        if is_canceled == 1 and is_predicted == 1:\n",
        "            calc_profit = (room_price + clean_price) * cf * 0.8  # расчет прибыли, если бронь отменена и модель предсказала это\n",
        "            profit.append(calc_profit)\n",
        "        elif is_canceled == 1 and is_predicted == 0:\n",
        "            calc_loss =  0 - (room_price * cf + clean_price * cf)  # расчет убытков, если бронь отменена и модель не предсказала это\n",
        "            loss.append(calc_loss)\n",
        "        else:\n",
        "            calc_profit = total_nights * room_price * cf + int(total_nights / 2) * clean_price * cf  # расчет прибыли, если клиент не отменил бронь\n",
        "            profit.append(calc_profit)\n",
        "\n",
        "    sum_profit = sum(profit)\n",
        "    sum_loss = sum(loss)\n",
        "\n",
        "    return sum_profit, sum_loss\n",
        "print('Прибыль после внедрения модели:', sum(profit_calc(test_df)))\n",
        "\n",
        "#Прибыль без модели машинного обучения: 56265600.0\n",
        "#Прибыль после внедрения модели: 72826986.0\n",
        "#Чистая прибыль с учетом расходов на разработку модели: 16161386.0\n",
        "\n"
      ]
    },
    {
      "cell_type": "markdown",
      "metadata": {
        "id": "osuSKrOxP3eS"
      },
      "source": [
        "### Шаг 6. Напишите общий вывод"
      ]
    },
    {
      "cell_type": "code",
      "execution_count": null,
      "metadata": {
        "id": "cGSZLPuJP3eS"
      },
      "outputs": [],
      "source": []
    }
  ],
  "metadata": {
    "kernelspec": {
      "display_name": "Python 3",
      "name": "python3"
    },
    "language_info": {
      "name": "python"
    },
    "toc": {
      "base_numbering": 1,
      "nav_menu": {},
      "number_sections": true,
      "sideBar": true,
      "skip_h1_title": true,
      "title_cell": "Table of Contents",
      "title_sidebar": "Contents",
      "toc_cell": false,
      "toc_position": {},
      "toc_section_display": true,
      "toc_window_display": false
    },
    "colab": {
      "provenance": [],
      "toc_visible": true,
      "include_colab_link": true
    }
  },
  "nbformat": 4,
  "nbformat_minor": 0
}
